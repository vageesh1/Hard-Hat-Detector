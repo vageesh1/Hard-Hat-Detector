{
  "nbformat": 4,
  "nbformat_minor": 0,
  "metadata": {
    "colab": {
      "provenance": []
    },
    "kernelspec": {
      "name": "python3",
      "display_name": "Python 3"
    },
    "language_info": {
      "name": "python"
    },
    "accelerator": "GPU",
    "gpuClass": "standard"
  },
  "cells": [
    {
      "cell_type": "markdown",
      "source": [
        "# Importing libraries"
      ],
      "metadata": {
        "id": "RPTaJjXiKktB"
      }
    },
    {
      "cell_type": "code",
      "execution_count": null,
      "metadata": {
        "id": "zMhjxkU0KRoI"
      },
      "outputs": [],
      "source": [
        "import numpy as np\n",
        "import pandas as pd\n",
        "import os\n",
        "import six.moves.urllib as urllib\n",
        "import sys\n",
        "import tarfile\n",
        "import tensorflow as tf\n",
        "import glob\n",
        "import xml.etree.ElementTree as ET"
      ]
    },
    {
      "cell_type": "markdown",
      "source": [
        "# Getting the tensorflow custom api \n"
      ],
      "metadata": {
        "id": "VvMQFPSKMkDO"
      }
    },
    {
      "cell_type": "code",
      "source": [
        "!git clone --q https://github.com/tensorflow/models.git"
      ],
      "metadata": {
        "id": "Cf0UMYa3KnTs"
      },
      "execution_count": null,
      "outputs": []
    },
    {
      "cell_type": "code",
      "source": [
        "%cd /content/models/research"
      ],
      "metadata": {
        "id": "vN7oYre3MoeO"
      },
      "execution_count": null,
      "outputs": []
    },
    {
      "cell_type": "code",
      "source": [
        "!protoc object_detection/protos/*.proto --python_out=."
      ],
      "metadata": {
        "id": "1FbbtracMrEq"
      },
      "execution_count": null,
      "outputs": []
    },
    {
      "cell_type": "code",
      "source": [
        "# Install TensorFlow Object Detection API.\n",
        "!cp object_detection/packages/tf2/setup.py .\n",
        "!python -m pip install ."
      ],
      "metadata": {
        "id": "f72s__eYMtaJ"
      },
      "execution_count": null,
      "outputs": []
    },
    {
      "cell_type": "code",
      "source": [
        "#testing the model \n",
        "!python object_detection/builders/model_builder_tf2_test.py"
      ],
      "metadata": {
        "id": "uTOb0F20Mx03"
      },
      "execution_count": null,
      "outputs": []
    },
    {
      "cell_type": "markdown",
      "source": [
        "As we can see that our model is working good here"
      ],
      "metadata": {
        "id": "6GSHJh4xNzrc"
      }
    },
    {
      "cell_type": "markdown",
      "source": [
        "#Data processing"
      ],
      "metadata": {
        "id": "Hn9Vw7cqNdHk"
      }
    },
    {
      "cell_type": "code",
      "source": [
        "#lets unzip our files \n",
        "#first navigate to the folder in which our data is there \n",
        "%cd /content/drive/MyDrive/datasets/customtf2"
      ],
      "metadata": {
        "id": "ihNt5YUWNbeE"
      },
      "execution_count": null,
      "outputs": []
    },
    {
      "cell_type": "code",
      "source": [
        "#now unzip the data containing the annotations and images \n",
        "!unzip /content/drive/MyDrive/datasets/customtf2/HardHat_Dataset.zip -d ."
      ],
      "metadata": {
        "id": "eVAOvEzHOKzc"
      },
      "execution_count": null,
      "outputs": []
    },
    {
      "cell_type": "markdown",
      "source": [
        "# Dividing into train and test data \n",
        "The labels need to be formed into 80 and 20 percent of train and test respectively "
      ],
      "metadata": {
        "id": "BiwUMyeqO-Oo"
      }
    },
    {
      "cell_type": "code",
      "source": [
        "#creating two directories  for training and testing data\n",
        "!mkdir test_labels train_labels\n",
        "\n",
        "#we have 4750 total number of annoatations so taking 20%= 950 in test and 3800 into train data\n",
        "!ls annotations/* | sort -R | head -950 | xargs -I{} mv {} test_labels/\n",
        "\n",
        "\n",
        "# Moving the remaining ( 3800 labels ) to the training dir: `train_labels`\n",
        "!ls annotations/* | xargs -I{} mv {} train_labels/"
      ],
      "metadata": {
        "id": "elsI-XtvOS3O"
      },
      "execution_count": null,
      "outputs": []
    },
    {
      "cell_type": "markdown",
      "source": [
        "# Creating the CSV files of annotations and a “label_map.pbtxt” file"
      ],
      "metadata": {
        "id": "T0f23em6QXM-"
      }
    },
    {
      "cell_type": "code",
      "source": [
        "#given in the tensorflow custom detection repository\n",
        "def xml_to_csv(path):\n",
        "  classes_names = []\n",
        "  xml_list = []\n",
        "\n",
        "  for xml_file in glob.glob(path + '/*.xml'):\n",
        "    tree = ET.parse(xml_file)\n",
        "    root = tree.getroot()\n",
        "    for member in root.findall('object'):\n",
        "      value = (root.find('filename').text,\n",
        "                  int(root.find('size').find('width').text),\n",
        "                  int(root.find('size').find('height').text),\n",
        "                  member[0].text,\n",
        "                  int(member.find(\"bndbox\").find('xmin').text),\n",
        "                  int(member.find(\"bndbox\").find('ymin').text),\n",
        "                  int(member.find(\"bndbox\").find('xmax').text),\n",
        "                  int(member.find(\"bndbox\").find('ymax').text)\n",
        "                  )\n",
        "      xml_list.append(value)\n",
        "  column_name = ['filename', 'width', 'height', 'class', 'xmin', 'ymin', 'xmax', 'ymax']\n",
        "  xml_df = pd.DataFrame(xml_list, columns=column_name) \n",
        "  classes_names = list(set(classes_names))\n",
        "  classes_names.sort()\n",
        "  return xml_df, classes_names"
      ],
      "metadata": {
        "id": "Lx1FdLSvPwjL"
      },
      "execution_count": null,
      "outputs": []
    },
    {
      "cell_type": "code",
      "source": [
        "#running the above function on all the train and test labels \n",
        "for label_path in ['train_labels', 'test_labels']:\n",
        "  image_path = os.path.join(os.getcwd(), label_path)\n",
        "  xml_df, classes = xml_to_csv(label_path)\n",
        "  xml_df.to_csv(f'{label_path}.csv', index=None)\n",
        "  print(f'Successfully converted {label_path} xml to csv.')"
      ],
      "metadata": {
        "id": "64oumNIWQm3l"
      },
      "execution_count": null,
      "outputs": []
    },
    {
      "cell_type": "code",
      "source": [
        "#creating the file label_map.pbtxt\n",
        "label_map_path = os.path.join(\"label_map.pbtxt\")\n",
        "pbtxt_content = \"\""
      ],
      "metadata": {
        "id": "qi9H5N-_QvDO"
      },
      "execution_count": null,
      "outputs": []
    },
    {
      "cell_type": "code",
      "source": [
        "#adding the class name in the pbtxt file\n",
        "for i, class_name in enumerate(classes):\n",
        "    pbtxt_content = (\n",
        "        pbtxt_content\n",
        "        + \"item {{\\n    id: {0}\\n    name: '{1}'\\n}}\\n\\n\".format(i + 1, class_name)\n",
        "    )"
      ],
      "metadata": {
        "id": "JY6fEEG1Vl4E"
      },
      "execution_count": null,
      "outputs": []
    },
    {
      "cell_type": "code",
      "source": [
        "#writing the content in pbtxt file\n",
        "pbtxt_content = pbtxt_content.strip()\n",
        "with open(label_map_path, \"w\") as f:\n",
        "    f.write(pbtxt_content)\n",
        "    print('Successfully created label_map.pbtxt ')"
      ],
      "metadata": {
        "id": "0gzQxKxbVrCj"
      },
      "execution_count": null,
      "outputs": []
    },
    {
      "cell_type": "markdown",
      "source": [
        "Content for label_map.pbtxt is like this <br>\n",
        "item {<br>\n",
        "  id: 1 <br>\n",
        "  name: 'helmet'\n",
        "}\n",
        "\n",
        "item {<br>\n",
        "  id: 2<br>\n",
        "  name: 'head'<br>\n",
        "}\n",
        "\n",
        "item {<br>\n",
        "  id: 3<br>\n",
        "  name: 'person'<br>\n",
        "}\n"
      ],
      "metadata": {
        "id": "FKBcIfGUWSSU"
      }
    },
    {
      "cell_type": "markdown",
      "source": [
        "# Creating TF record files"
      ],
      "metadata": {
        "id": "73lOos4fWngQ"
      }
    },
    {
      "cell_type": "code",
      "source": [
        "train_csv=pd.read_csv('/content/drive/MyDrive/datasets/customtf2/train_labels.csv')"
      ],
      "metadata": {
        "id": "2O1l3ZYDXIXq"
      },
      "execution_count": null,
      "outputs": []
    },
    {
      "cell_type": "code",
      "source": [
        "train_csv['class'].value_counts()"
      ],
      "metadata": {
        "colab": {
          "base_uri": "https://localhost:8080/"
        },
        "id": "GjrCQp-hXPTh",
        "outputId": "338cd395-e172-434d-8a7f-81364fd65e49"
      },
      "execution_count": null,
      "outputs": [
        {
          "output_type": "execute_result",
          "data": {
            "text/plain": [
              "helmet    14445\n",
              "head       4506\n",
              "person      602\n",
              "Name: class, dtype: int64"
            ]
          },
          "metadata": {},
          "execution_count": 87
        }
      ]
    },
    {
      "cell_type": "code",
      "source": [
        "#For train.record\n",
        "!python /content/drive/MyDrive/datasets/customtf2/generatetfrecord.py train_labels.csv  label_map.pbtxt images/ train.record"
      ],
      "metadata": {
        "id": "Pe6mHVFhVw0I"
      },
      "execution_count": null,
      "outputs": []
    },
    {
      "cell_type": "code",
      "source": [
        "#For test.record \n",
        "!python /content/drive/MyDrive/datasets/customtf2/generatetfrecord.py test_labels.csv  label_map.pbtxt images/ test.record"
      ],
      "metadata": {
        "id": "Seq8NXTFW4Ne"
      },
      "execution_count": null,
      "outputs": []
    },
    {
      "cell_type": "markdown",
      "source": [
        "# Using pre trained model from the tf2 api "
      ],
      "metadata": {
        "id": "CWBmRJ4DX9hX"
      }
    },
    {
      "cell_type": "markdown",
      "source": [
        "we will be using ssd_mobilenet_v2_fpnlite_320x320_coco17_tpu-8 for this purpose"
      ],
      "metadata": {
        "id": "cViLCjNLYNki"
      }
    },
    {
      "cell_type": "code",
      "source": [
        "!wget http://download.tensorflow.org/models/object_detection/tf2/20200711/ssd_mobilenet_v2_fpnlite_320x320_coco17_tpu-8.tar.gz\n",
        "!tar -xzvf ssd_mobilenet_v2_fpnlite_320x320_coco17_tpu-8.tar.gz"
      ],
      "metadata": {
        "id": "rQl1fP0UX0mO"
      },
      "execution_count": null,
      "outputs": []
    },
    {
      "cell_type": "code",
      "source": [
        "#now moving the configuration file to our original directory \n",
        "!cp /content/models/research/object_detection/configs/tf2/ssd_mobilenet_v2_fpnlite_320x320_coco17_tpu-8.config /content/drive/MyDrive/datasets/customtf2"
      ],
      "metadata": {
        "id": "p_aMb3IPYlv9"
      },
      "execution_count": null,
      "outputs": []
    },
    {
      "cell_type": "markdown",
      "source": [
        "# Training the model"
      ],
      "metadata": {
        "id": "lFnU1stLc2X3"
      }
    },
    {
      "cell_type": "code",
      "source": [
        "%cd /content/models/research/object_detection"
      ],
      "metadata": {
        "colab": {
          "base_uri": "https://localhost:8080/"
        },
        "id": "JdzBgTHGcty1",
        "outputId": "95282388-d265-49ce-d534-c13a22726aeb"
      },
      "execution_count": null,
      "outputs": [
        {
          "output_type": "stream",
          "name": "stdout",
          "text": [
            "/content/models/research/object_detection\n"
          ]
        }
      ]
    },
    {
      "cell_type": "code",
      "source": [
        "!python model_main_tf2.py --pipeline_config_path=/content/drive/MyDrive/datasets/customtf2/ssd_mobilenet_v2_fpnlite_320x320_coco17_tpu-8.config --model_dir=/content/drive/MyDrive/datasets/customtf2/ssd_mobilenet_v2_fpnlite_320x320_coco17_tpu-8/checkpoint/ckpt-0--alsologtostderr"
      ],
      "metadata": {
        "id": "MwiyHy9rc0AE"
      },
      "execution_count": null,
      "outputs": []
    },
    {
      "cell_type": "markdown",
      "source": [
        "# Exporting the model"
      ],
      "metadata": {
        "id": "e3INAYq1xoH1"
      }
    },
    {
      "cell_type": "code",
      "source": [
        "!python exporter_main_v2.py --trained_checkpoint_dir=/content/models/research/object_detection/ssd_mobilenet_v2_fpnlite_320x320_coco17_tpu-8/checkpoint --pipeline_config_path=/content/models/research/object_detection/ssd_mobilenet_v2_fpnlite_320x320_coco17_tpu-8/pipeline.config --output_directory /content/drive/MyDrive/datasets/customtf2/model_50000"
      ],
      "metadata": {
        "id": "N2OAf2geoUCs"
      },
      "execution_count": null,
      "outputs": []
    }
  ]
}